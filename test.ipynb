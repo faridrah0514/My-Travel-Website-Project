{
 "cells": [
  {
   "cell_type": "markdown",
   "metadata": {},
   "source": [
    "# Hacktiv8 Web App Development\n",
    "# Travel Guide Website\n",
    "\n",
    "Pada Project _Travel Guide Website_ ini, terdapat beberapa hal sebagai berikut:\n",
    "\n",
    "1. _Landing Page_ yang dapat **menampilkan berbagai destinasi dan kota**\n",
    "2. Terdapat **biaya untuk akomodasi ke destinasi tersebut**\n",
    "3. Projek ini menitikberatkan penggunaan HTML untuk mengembangkan webpage, CSS untuk styling, serta JavaScript dan DOM untuk melihat destinasi dan kota termasuk biaya akomodasinya\n",
    "\n",
    "Project ini dapat di akses di [sini](https://faridrah0514.github.io/).\n",
    "\n",
    "Project ini dimulai dari 0 tanpa menggunakan framework apapun.\n",
    "\n",
    "## App Functionality\n",
    "Halaman utama pada aplikasi ini menampilkan daftar destinasi (seperti Museum, Nature, dll). Setiap destinasi harus memiliki:\n",
    "\n",
    "    - Judul destinasi\n",
    "    - Deskripsi\n",
    "    - Gambar destinasi\n",
    "    - Lokasi\n",
    "    - Biaya\n",
    "\n",
    "Homepage dari aplikasi Travel Guide ini menunjukkan judul dan semua daftar destinasi, hingga tombol drop down untuk memfilter dan menampilkan nama kota. Search input dapat digunakan mencari destinasi. Landing page yang dibuat terlihat seperti di bawah:\n",
    "\n",
    "**1. Landing Page**\n",
    "\n",
    "![Image](./readme/Landing_page.png)\n",
    "\n",
    "**2. Lightbox**\n",
    "\n",
    "Setiap destinasi memiliki keterkaitan dengan Total Price yang dapat menghitung biaya dari setiap destinasi yang dipilih. Saat kamu memilih destinasi yang berbeda dengan menekan tombol “Add to Wishlist”, total biaya yang muncul akan bertambah sesuai dengan destinasi yang sudah dipilih\n",
    "\n",
    "![Image](./readme/Lightbox.png)\n",
    "\n",
    "**3. Search box**\n",
    "\n",
    "Halaman utama juga memiliki search form, yang dapat mencari destinasi dan menambahkannya ke Wishlist.\n",
    "\n",
    "Search form tersebut memiliki text input yang dapat digunakan untuk langsung menemukan destinasi. Saat value yang ada pada text input berubah, destinasi yang cocok dengan inputan tersebut akan muncul.\n",
    "\n",
    "\n",
    "\n",
    "**Farid Rahman | _fr.farid.rahman@gmail.com_**"
   ]
  },
  {
   "cell_type": "code",
   "execution_count": null,
   "metadata": {},
   "outputs": [],
   "source": []
  }
 ],
 "metadata": {
  "file_extension": ".py",
  "kernelspec": {
   "display_name": "Python 3",
   "language": "python",
   "name": "python3"
  },
  "language_info": {
   "codemirror_mode": {
    "name": "ipython",
    "version": 3
   },
   "file_extension": ".py",
   "mimetype": "text/x-python",
   "name": "python",
   "nbconvert_exporter": "python",
   "pygments_lexer": "ipython3",
   "version": "3.8.2"
  },
  "mimetype": "text/x-python",
  "name": "python",
  "npconvert_exporter": "python",
  "pygments_lexer": "ipython3",
  "version": 3
 },
 "nbformat": 4,
 "nbformat_minor": 2
}
